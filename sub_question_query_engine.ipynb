{
  "cells": [
    {
      "cell_type": "markdown",
      "id": "954e61ed-b3b3-4445-af90-19046f6c1da2",
      "metadata": {
        "id": "954e61ed-b3b3-4445-af90-19046f6c1da2"
      },
      "source": [
        "# Sub Question Query Engine\n",
        "Using a **sub question query engine** to tackle the problem of answering a complex query using multiple data sources.  \n",
        "It first breaks down the complex query into sub questions for each relevant data source,\n",
        "then gather all the intermediate reponses and synthesizes a final response."
      ]
    },
    {
      "cell_type": "markdown",
      "id": "75ac0675-cde6-49ae-bfb3-4c43e6c4a718",
      "metadata": {
        "id": "75ac0675-cde6-49ae-bfb3-4c43e6c4a718"
      },
      "source": [
        "### Preparation"
      ]
    },
    {
      "cell_type": "code",
      "execution_count": null,
      "id": "2b740633",
      "metadata": {
        "id": "2b740633"
      },
      "outputs": [],
      "source": [
        "!pip install llama-index"
      ]
    },
    {
      "cell_type": "code",
      "execution_count": null,
      "id": "4d97d35f",
      "metadata": {
        "id": "4d97d35f"
      },
      "outputs": [],
      "source": [
        "import os\n",
        "import openai\n",
        "\n",
        "os.environ[\"OPENAI_API_KEY\"] = \"sk-...\"\n",
        "openai.api_key = os.environ[\"OPENAI_API_KEY\"]\n",
        "\n",
        "import nest_asyncio\n",
        "\n",
        "nest_asyncio.apply()"
      ]
    },
    {
      "cell_type": "code",
      "execution_count": null,
      "id": "c3675b87-4d08-4f59-a971-48bf67c66ad0",
      "metadata": {
        "id": "c3675b87-4d08-4f59-a971-48bf67c66ad0"
      },
      "outputs": [],
      "source": [
        "from llama_index import VectorStoreIndex, SimpleDirectoryReader\n",
        "from llama_index.tools import QueryEngineTool, ToolMetadata\n",
        "from llama_index.query_engine import SubQuestionQueryEngine\n",
        "from llama_index.callbacks import CallbackManager, LlamaDebugHandler\n",
        "from llama_index import ServiceContext"
      ]
    },
    {
      "cell_type": "code",
      "execution_count": null,
      "id": "2b95fb5b",
      "metadata": {
        "id": "2b95fb5b"
      },
      "outputs": [],
      "source": [
        "# Using the LlamaDebugHandler to print the trace of the sub questions\n",
        "# captured by the SUB_QUESTION callback event type\n",
        "llama_debug = LlamaDebugHandler(print_trace_on_end=True)\n",
        "callback_manager = CallbackManager([llama_debug])\n",
        "service_context = ServiceContext.from_defaults(\n",
        "    callback_manager=callback_manager\n",
        ")"
      ]
    },
    {
      "cell_type": "markdown",
      "id": "f07aabc9",
      "metadata": {
        "id": "f07aabc9"
      },
      "source": [
        "### Download Data"
      ]
    },
    {
      "cell_type": "code",
      "execution_count": null,
      "id": "5c9cfa51",
      "metadata": {
        "id": "5c9cfa51"
      },
      "outputs": [],
      "source": [
        "!mkdir -p 'data/essay/'\n",
        "!wget 'https://raw.githubusercontent.com/run-llama/llama_index/main/docs/examples/data/paul_graham/paul_graham_essay.txt' -O 'data/essay/paul_graham_essay.txt'"
      ]
    },
    {
      "cell_type": "code",
      "execution_count": null,
      "id": "22b8b519-dd95-4dfb-9cdc-cb0004852036",
      "metadata": {
        "id": "22b8b519-dd95-4dfb-9cdc-cb0004852036",
        "outputId": "77dee87c-e4cc-44a9-fc20-dc3ed466595e"
      },
      "outputs": [
        {
          "name": "stdout",
          "output_type": "stream",
          "text": [
            "**********\n",
            "Trace: index_construction\n",
            "    |_node_parsing ->  0.394271 seconds\n",
            "      |_chunking ->  0.393344 seconds\n",
            "    |_embedding ->  0.753133 seconds\n",
            "    |_embedding ->  0.749828 seconds\n",
            "**********\n"
          ]
        }
      ],
      "source": [
        "# load data\n",
        "pg_essay = SimpleDirectoryReader(input_dir=\"./data/essay/\").load_data()\n",
        "\n",
        "# build index and query engine\n",
        "vector_query_engine = VectorStoreIndex.from_documents(\n",
        "    pg_essay, use_async=True, service_context=service_context\n",
        ").as_query_engine()"
      ]
    },
    {
      "cell_type": "markdown",
      "id": "484cb516-6692-4d07-9bd8-93941909b459",
      "metadata": {
        "id": "484cb516-6692-4d07-9bd8-93941909b459"
      },
      "source": [
        "### Setup sub question query engine"
      ]
    },
    {
      "cell_type": "code",
      "execution_count": null,
      "id": "dbff0cbd-9a1a-4acc-9870-03d05640125c",
      "metadata": {
        "id": "dbff0cbd-9a1a-4acc-9870-03d05640125c"
      },
      "outputs": [],
      "source": [
        "# setup base query engine as tool\n",
        "query_engine_tools = [\n",
        "    QueryEngineTool(\n",
        "        query_engine=vector_query_engine,\n",
        "        metadata=ToolMetadata(\n",
        "            name=\"pg_essay\",\n",
        "            description=\"Paul Graham essay on What I Worked On\",\n",
        "        ),\n",
        "    ),\n",
        "]\n",
        "\n",
        "query_engine = SubQuestionQueryEngine.from_defaults(\n",
        "    query_engine_tools=query_engine_tools,\n",
        "    service_context=service_context,\n",
        "    use_async=True,\n",
        ")"
      ]
    },
    {
      "cell_type": "markdown",
      "id": "eeea8e15-78ab-4f72-a380-1a76bb5d5737",
      "metadata": {
        "id": "eeea8e15-78ab-4f72-a380-1a76bb5d5737"
      },
      "source": [
        "### Run queries"
      ]
    },
    {
      "cell_type": "code",
      "execution_count": null,
      "id": "a576ce5e-a6d1-470d-be51-84fbb31b4aa2",
      "metadata": {
        "id": "a576ce5e-a6d1-470d-be51-84fbb31b4aa2",
        "outputId": "5dd82922-2e1b-4196-9902-1859b1066816"
      },
      "outputs": [
        {
          "name": "stdout",
          "output_type": "stream",
          "text": [
            "Generated 3 sub questions.\n",
            "\u001b[36;1m\u001b[1;3m[pg_essay] Q: What did Paul Graham do before YC?\n",
            "\u001b[0m\u001b[33;1m\u001b[1;3m[pg_essay] Q: What did Paul Graham do during YC?\n",
            "\u001b[0m\u001b[38;5;200m\u001b[1;3m[pg_essay] Q: What did Paul Graham do after YC?\n",
            "\u001b[0m\u001b[36;1m\u001b[1;3m[pg_essay] A: \n",
            "Before YC, Paul Graham was a hacker, writer, and worked on Arc, a programming language. He also wrote essays and worked on other projects.\n",
            "\u001b[0m\u001b[38;5;200m\u001b[1;3m[pg_essay] A: \n",
            "Paul Graham stopped working on YC in March 2014 and began painting. He spent most of the rest of the year painting and then in November he ran out of steam and stopped. He then began writing essays again and in March 2015 he started working on Lisp again.\n",
            "\u001b[0m\u001b[33;1m\u001b[1;3m[pg_essay] A: \n",
            "Paul Graham worked on YC in a variety of ways. He wrote essays, worked on internal software in Arc, and created Hacker News. He also helped select and support founders, dealt with disputes between cofounders, and fought with people who maltreated the startups. He worked hard even at the parts he didn't like, and was determined to make YC a success. In 2010, he was offered unsolicited advice to make sure YC wasn't the last cool thing he did, which set him thinking about his future. In 2012, he decided to hand YC over to someone else and recruited Sam Altman to take over. He worked on YC until March 2014, when his mother passed away, and then he checked out completely.\n",
            "\u001b[0m**********\n",
            "Trace: query\n",
            "    |_query ->  13.064431 seconds\n",
            "      |_llm ->  2.499768 seconds\n",
            "      |_sub_question ->  2.05934 seconds\n",
            "        |_query ->  2.059142 seconds\n",
            "          |_retrieve ->  0.278184 seconds\n",
            "            |_embedding ->  0.274593 seconds\n",
            "          |_synthesize ->  1.780895 seconds\n",
            "            |_llm ->  1.740488 seconds\n",
            "      |_sub_question ->  5.364061 seconds\n",
            "        |_query ->  5.363695 seconds\n",
            "          |_retrieve ->  0.230257 seconds\n",
            "            |_embedding ->  0.226763 seconds\n",
            "          |_synthesize ->  5.133343 seconds\n",
            "            |_llm ->  5.091069 seconds\n",
            "      |_sub_question ->  2.148964 seconds\n",
            "        |_query ->  2.14889 seconds\n",
            "          |_retrieve ->  0.323438 seconds\n",
            "            |_embedding ->  0.319841 seconds\n",
            "          |_synthesize ->  1.825401 seconds\n",
            "            |_llm ->  1.783064 seconds\n",
            "      |_synthesize ->  5.198214 seconds\n",
            "        |_llm ->  5.175849 seconds\n",
            "**********\n"
          ]
        }
      ],
      "source": [
        "response = query_engine.query(\n",
        "    \"How was Paul Grahams life different before, during, and after YC?\"\n",
        ")"
      ]
    },
    {
      "cell_type": "code",
      "execution_count": null,
      "id": "222d16a7-089a-4de0-b551-fcd785f3eb26",
      "metadata": {
        "id": "222d16a7-089a-4de0-b551-fcd785f3eb26",
        "outputId": "05f5ba9c-b148-42ff-b304-565942e8414d"
      },
      "outputs": [
        {
          "name": "stdout",
          "output_type": "stream",
          "text": [
            "\n",
            "Before YC, Paul Graham was a hacker, writer, and worked on Arc, a programming language. During YC, he wrote essays, worked on internal software in Arc, and created Hacker News. He also helped select and support founders, dealt with disputes between cofounders, and fought with people who maltreated the startups. After YC, Paul Graham stopped working on YC and began painting. He then began writing essays again and in March 2015 he started working on Lisp again. Paul Graham's life was different before, during, and after YC in that he changed his focus from programming and writing to painting and then back to programming and writing.\n"
          ]
        }
      ],
      "source": [
        "print(response)"
      ]
    },
    {
      "cell_type": "code",
      "execution_count": null,
      "id": "fc38e65a",
      "metadata": {
        "id": "fc38e65a",
        "outputId": "81e26046-7e98-4d23-f5e6-ca5937c60f03"
      },
      "outputs": [
        {
          "name": "stdout",
          "output_type": "stream",
          "text": [
            "Sub Question 0: What did Paul Graham do before YC?\n",
            "Answer: Before YC, Paul Graham was a hacker, writer, and worked on Arc, a programming language. He also wrote essays and worked on other projects.\n",
            "====================================\n",
            "Sub Question 1: What did Paul Graham do during YC?\n",
            "Answer: Paul Graham worked on YC in a variety of ways. He wrote essays, worked on internal software in Arc, and created Hacker News. He also helped select and support founders, dealt with disputes between cofounders, and fought with people who maltreated the startups. He worked hard even at the parts he didn't like, and was determined to make YC a success. In 2010, he was offered unsolicited advice to make sure YC wasn't the last cool thing he did, which set him thinking about his future. In 2012, he decided to hand YC over to someone else and recruited Sam Altman to take over. He worked on YC until March 2014, when his mother passed away, and then he checked out completely.\n",
            "====================================\n",
            "Sub Question 2: What did Paul Graham do after YC?\n",
            "Answer: Paul Graham stopped working on YC in March 2014 and began painting. He spent most of the rest of the year painting and then in November he ran out of steam and stopped. He then began writing essays again and in March 2015 he started working on Lisp again.\n",
            "====================================\n"
          ]
        }
      ],
      "source": [
        "# iterate through sub_question items captured in SUB_QUESTION event\n",
        "from llama_index.callbacks.schema import CBEventType, EventPayload\n",
        "\n",
        "for i, (start_event, end_event) in enumerate(\n",
        "    llama_debug.get_event_pairs(CBEventType.SUB_QUESTION)\n",
        "):\n",
        "    qa_pair = end_event.payload[EventPayload.SUB_QUESTION]\n",
        "    print(\"Sub Question \" + str(i) + \": \" + qa_pair.sub_q.sub_question.strip())\n",
        "    print(\"Answer: \" + qa_pair.answer.strip())\n",
        "    print(\"====================================\")"
      ]
    }
  ],
  "metadata": {
    "kernelspec": {
      "display_name": "Python 3 (ipykernel)",
      "language": "python",
      "name": "python3"
    },
    "language_info": {
      "codemirror_mode": {
        "name": "ipython",
        "version": 3
      },
      "file_extension": ".py",
      "mimetype": "text/x-python",
      "name": "python",
      "nbconvert_exporter": "python",
      "pygments_lexer": "ipython3"
    },
    "colab": {
      "provenance": []
    }
  },
  "nbformat": 4,
  "nbformat_minor": 5
}