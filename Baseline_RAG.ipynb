{
  "nbformat": 4,
  "nbformat_minor": 0,
  "metadata": {
    "colab": {
      "provenance": []
    },
    "kernelspec": {
      "name": "python3",
      "display_name": "Python 3"
    },
    "language_info": {
      "name": "python"
    }
  },
  "cells": [
    {
      "cell_type": "markdown",
      "source": [
        "## Rewrite Retrieve Read is a method for Query rewriting for Retrieval augmented Large language models"
      ],
      "metadata": {
        "id": "zL0t2_y2pFN_"
      }
    },
    {
      "cell_type": "code",
      "execution_count": null,
      "metadata": {
        "id": "9eaN6TAjo60t"
      },
      "outputs": [],
      "source": [
        "from langchain.chat_models import ChatOpenAI\n",
        "from langchain.prompts import ChatPromptTemplate\n",
        "from langchain.utilities import DuckDuckGoSearchAPIWrapper\n",
        "from langchain_core.output_parsers import StrOutputParser\n",
        "from langchain_core.runnables import RunnablePassthrough"
      ]
    },
    {
      "cell_type": "code",
      "source": [
        "template = \"\"\"Answer the users question based only on the following context:\n",
        "\n",
        "<context>\n",
        "{context}\n",
        "</context>\n",
        "\n",
        "Question: {question}\n",
        "\"\"\"\n",
        "prompt = ChatPromptTemplate.from_template(template)\n",
        "\n",
        "model = ChatOpenAI(temperature=0)\n",
        "\n",
        "search = DuckDuckGoSearchAPIWrapper()\n",
        "\n",
        "\n",
        "def retriever(query):\n",
        "    return search.run(query)"
      ],
      "metadata": {
        "id": "GaJdzlsjpWYF"
      },
      "execution_count": null,
      "outputs": []
    },
    {
      "cell_type": "code",
      "source": [
        "chain = (\n",
        "    {\"context\": retriever, \"question\": RunnablePassthrough()}\n",
        "    | prompt\n",
        "    | model\n",
        "    | StrOutputParser()\n",
        ")"
      ],
      "metadata": {
        "id": "-izF8s1Dpi0x"
      },
      "execution_count": null,
      "outputs": []
    },
    {
      "cell_type": "code",
      "source": [
        "simple_query = \"what is langchain?\""
      ],
      "metadata": {
        "id": "CMersQYZpkuT"
      },
      "execution_count": null,
      "outputs": []
    },
    {
      "cell_type": "code",
      "source": [
        "chain.invoke(simple_query)"
      ],
      "metadata": {
        "id": "wRduWnvgplQn"
      },
      "execution_count": null,
      "outputs": []
    },
    {
      "cell_type": "code",
      "source": [
        "distracted_query = \"man that sam bankman fried trial was crazy! what is langchain?\""
      ],
      "metadata": {
        "id": "CoIceTJ8pxpI"
      },
      "execution_count": null,
      "outputs": []
    },
    {
      "cell_type": "code",
      "source": [
        "chain.invoke(distracted_query)"
      ],
      "metadata": {
        "id": "gt8BNLPbpzBK"
      },
      "execution_count": null,
      "outputs": []
    },
    {
      "cell_type": "code",
      "source": [
        "retriever(distracted_query)"
      ],
      "metadata": {
        "id": "JMrqLsh7p03X"
      },
      "execution_count": null,
      "outputs": []
    },
    {
      "cell_type": "markdown",
      "source": [
        "## Rewrite-Retrieve-Read Implementation\n",
        "- The main part is a rewriter to rewrite the search query"
      ],
      "metadata": {
        "id": "S52dMXNOqDLx"
      }
    },
    {
      "cell_type": "code",
      "source": [
        "template = \"\"\"Provide a better search query for \\\n",
        "web search engine to answer the given question, end \\\n",
        "the queries with ’**’. Question: \\\n",
        "{x} Answer:\"\"\"\n",
        "rewrite_prompt = ChatPromptTemplate.from_template(template)"
      ],
      "metadata": {
        "id": "-gRw11QdqD3D"
      },
      "execution_count": null,
      "outputs": []
    },
    {
      "cell_type": "code",
      "source": [
        "from langchain import hub\n",
        "\n",
        "rewrite_prompt = hub.pull(\"langchain-ai/rewrite\")"
      ],
      "metadata": {
        "id": "MMBPi9mqqKda"
      },
      "execution_count": null,
      "outputs": []
    },
    {
      "cell_type": "code",
      "source": [
        "print(rewrite_prompt.template)"
      ],
      "metadata": {
        "id": "5-og1DmRqM9N"
      },
      "execution_count": null,
      "outputs": []
    },
    {
      "cell_type": "code",
      "source": [
        "# Parser to remove the `**`\n",
        "\n",
        "\n",
        "def _parse(text):\n",
        "    return text.strip(\"**\")"
      ],
      "metadata": {
        "id": "hyQ50VvjqPEb"
      },
      "execution_count": null,
      "outputs": []
    },
    {
      "cell_type": "code",
      "source": [
        "rewriter = rewrite_prompt | ChatOpenAI(temperature=0) | StrOutputParser() | _parse"
      ],
      "metadata": {
        "id": "KqPmo5P6qQev"
      },
      "execution_count": null,
      "outputs": []
    },
    {
      "cell_type": "code",
      "source": [
        "rewriter.invoke({\"x\": distracted_query})"
      ],
      "metadata": {
        "id": "k5gonnv3qRxa"
      },
      "execution_count": null,
      "outputs": []
    },
    {
      "cell_type": "code",
      "source": [
        "rewrite_retrieve_read_chain = (\n",
        "    {\n",
        "        \"context\": {\"x\": RunnablePassthrough()} | rewriter | retriever,\n",
        "        \"question\": RunnablePassthrough(),\n",
        "    }\n",
        "    | prompt\n",
        "    | model\n",
        "    | StrOutputParser()\n",
        ")"
      ],
      "metadata": {
        "id": "7vICeLQoqTx1"
      },
      "execution_count": null,
      "outputs": []
    },
    {
      "cell_type": "code",
      "source": [
        "rewrite_retrieve_read_chain.invoke(distracted_query)"
      ],
      "metadata": {
        "id": "_jp_tCYVqVR0"
      },
      "execution_count": null,
      "outputs": []
    }
  ]
}